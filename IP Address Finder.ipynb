{
  "nbformat": 4,
  "nbformat_minor": 5,
  "metadata": {
    "kernelspec": {
      "display_name": "Python 3",
      "language": "python",
      "name": "python3"
    },
    "language_info": {
      "codemirror_mode": {
        "name": "ipython",
        "version": 3
      },
      "file_extension": ".py",
      "mimetype": "text/x-python",
      "name": "python",
      "nbconvert_exporter": "python",
      "pygments_lexer": "ipython3",
      "version": "3.8.8"
    },
    "colab": {
      "name": "IP Address Finder.ipynb",
      "provenance": []
    }
  },
  "cells": [
    {
      "cell_type": "code",
      "metadata": {
        "id": "ac68f277",
        "outputId": "69022a52-a068-4561-a56a-2b393002e50c"
      },
      "source": [
        "import socket   \n",
        "hostname = socket.gethostname()   \n",
        "IPAddr = socket.gethostbyname(hostname)   \n",
        "print(\"Your Computer Name is:\" + hostname)   \n",
        "print(\"Your Computer IP Address is:\" + IPAddr)\n",
        "\n",
        "# i change for github"
      ],
      "id": "ac68f277",
      "execution_count": null,
      "outputs": [
        {
          "name": "stdout",
          "output_type": "stream",
          "text": [
            "Your Computer Name is:DESKTOP-QTVLE9O\n",
            "Your Computer IP Address is:192.168.1.8\n"
          ]
        }
      ]
    },
    {
      "cell_type": "code",
      "metadata": {
        "id": "b5ab7b40"
      },
      "source": [
        ""
      ],
      "id": "b5ab7b40",
      "execution_count": null,
      "outputs": []
    }
  ]
}